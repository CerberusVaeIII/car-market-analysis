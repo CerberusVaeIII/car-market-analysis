{
 "cells": [
  {
   "cell_type": "code",
   "execution_count": 1,
   "id": "48ee8c38",
   "metadata": {},
   "outputs": [],
   "source": [
    "import pandas as pd\n",
    "import numpy as np\n",
    "from sklearn.model_selection import train_test_split"
   ]
  },
  {
   "cell_type": "code",
   "execution_count": 2,
   "id": "07bb64b3",
   "metadata": {},
   "outputs": [],
   "source": [
    "df = pd.read_csv(r\"scraped\\final\\RELEVANT_car_data_autovit_final_20250928_142949.csv\")"
   ]
  },
  {
   "cell_type": "code",
   "execution_count": 3,
   "id": "2c8c74c1",
   "metadata": {},
   "outputs": [
    {
     "data": {
      "text/plain": [
       "<bound method DataFrame.dropna of                brand      model  \\\n",
       "0               Ford     Mondeo   \n",
       "1               Ford       Kuga   \n",
       "2                BMW    Seria 3   \n",
       "3             Nissan     Pulsar   \n",
       "4            Citroën  C4 Cactus   \n",
       "...              ...        ...   \n",
       "31922         Nissan    Qashqai   \n",
       "31923  Mercedes-Benz        GLS   \n",
       "31924         Nissan       Juke   \n",
       "31925            BMW    Seria 3   \n",
       "31926     Land Rover  Discovery   \n",
       "\n",
       "                                          full_title  engine_displacement_cm3  \\\n",
       "0           Ford Mondeo 2.0 TDCi Powershift Titanium                   1997.0   \n",
       "1         Ford Kuga 2.0 TDCi 4WD Powershift Titanium                      NaN   \n",
       "2                                        BMW Seria 3                      NaN   \n",
       "3                                      Nissan Pulsar                      NaN   \n",
       "4      Citroën C4 Cactus 1.2 PureTech S&S BVM6 Shine                   1199.0   \n",
       "...                                              ...                      ...   \n",
       "31922   Nissan Qashqai 1.3 DIG-T MHEV Xtronic Acenta                      NaN   \n",
       "31923          Mercedes-Benz GLS 580 MHEV 4MATIC Aut                   3982.0   \n",
       "31924                                    Nissan Juke                      NaN   \n",
       "31925                BMW Seria 3 320d xDrive AT MHEV                      NaN   \n",
       "31926                           Land Rover Discovery                   1999.0   \n",
       "\n",
       "       power_hp                                 ad_description  price_eur  \\\n",
       "0         180.0   ford mondeo ver-2-0-tdci-powershift-titanium   13150.00   \n",
       "1           NaN                                            NaN    8999.00   \n",
       "2           NaN                                            NaN    9999.00   \n",
       "3           NaN                                            NaN    5999.00   \n",
       "4         130.0  Citron C4 Cactus 1.2i 130CP EURO6 ''Facelift\"    8200.00   \n",
       "...         ...                                            ...        ...   \n",
       "31922       NaN                                            NaN   20240.00   \n",
       "31923     489.0                              Mercedes-Benz Gls   92900.00   \n",
       "31924       NaN                                            NaN   21990.00   \n",
       "31925       NaN                                            NaN   29477.22   \n",
       "31926     241.0      Land Rover Discovery 241 CP-45.000 KM !!!   29800.00   \n",
       "\n",
       "       mileage_km fuel_type  production_year  \n",
       "0          187014    Diesel             2017  \n",
       "1          175000    Diesel             2014  \n",
       "2          194000    Diesel             2017  \n",
       "3          116000   Benzina             2016  \n",
       "4          143000   Benzina             2016  \n",
       "...           ...       ...              ...  \n",
       "31922       97000   Benzina             2023  \n",
       "31923      102816   Benzina             2022  \n",
       "31924       10000    Hibrid             2024  \n",
       "31925      129000    Diesel             2021  \n",
       "31926       45338    Diesel             2017  \n",
       "\n",
       "[31927 rows x 10 columns]>"
      ]
     },
     "execution_count": 3,
     "metadata": {},
     "output_type": "execute_result"
    }
   ],
   "source": [
    "df.dropna"
   ]
  },
  {
   "cell_type": "code",
   "execution_count": 4,
   "id": "51440850",
   "metadata": {},
   "outputs": [
    {
     "data": {
      "text/html": [
       "<div>\n",
       "<style scoped>\n",
       "    .dataframe tbody tr th:only-of-type {\n",
       "        vertical-align: middle;\n",
       "    }\n",
       "\n",
       "    .dataframe tbody tr th {\n",
       "        vertical-align: top;\n",
       "    }\n",
       "\n",
       "    .dataframe thead th {\n",
       "        text-align: right;\n",
       "    }\n",
       "</style>\n",
       "<table border=\"1\" class=\"dataframe\">\n",
       "  <thead>\n",
       "    <tr style=\"text-align: right;\">\n",
       "      <th></th>\n",
       "      <th>brand</th>\n",
       "      <th>model</th>\n",
       "      <th>full_title</th>\n",
       "      <th>engine_displacement_cm3</th>\n",
       "      <th>power_hp</th>\n",
       "      <th>ad_description</th>\n",
       "      <th>price_eur</th>\n",
       "      <th>mileage_km</th>\n",
       "      <th>fuel_type</th>\n",
       "      <th>production_year</th>\n",
       "    </tr>\n",
       "  </thead>\n",
       "  <tbody>\n",
       "    <tr>\n",
       "      <th>0</th>\n",
       "      <td>Ford</td>\n",
       "      <td>Mondeo</td>\n",
       "      <td>Ford Mondeo 2.0 TDCi Powershift Titanium</td>\n",
       "      <td>1997.0</td>\n",
       "      <td>180.0</td>\n",
       "      <td>ford mondeo ver-2-0-tdci-powershift-titanium</td>\n",
       "      <td>13150.00</td>\n",
       "      <td>187014</td>\n",
       "      <td>Diesel</td>\n",
       "      <td>2017</td>\n",
       "    </tr>\n",
       "    <tr>\n",
       "      <th>1</th>\n",
       "      <td>Ford</td>\n",
       "      <td>Kuga</td>\n",
       "      <td>Ford Kuga 2.0 TDCi 4WD Powershift Titanium</td>\n",
       "      <td>NaN</td>\n",
       "      <td>NaN</td>\n",
       "      <td>NaN</td>\n",
       "      <td>8999.00</td>\n",
       "      <td>175000</td>\n",
       "      <td>Diesel</td>\n",
       "      <td>2014</td>\n",
       "    </tr>\n",
       "    <tr>\n",
       "      <th>2</th>\n",
       "      <td>BMW</td>\n",
       "      <td>Seria 3</td>\n",
       "      <td>BMW Seria 3</td>\n",
       "      <td>NaN</td>\n",
       "      <td>NaN</td>\n",
       "      <td>NaN</td>\n",
       "      <td>9999.00</td>\n",
       "      <td>194000</td>\n",
       "      <td>Diesel</td>\n",
       "      <td>2017</td>\n",
       "    </tr>\n",
       "    <tr>\n",
       "      <th>3</th>\n",
       "      <td>Nissan</td>\n",
       "      <td>Pulsar</td>\n",
       "      <td>Nissan Pulsar</td>\n",
       "      <td>NaN</td>\n",
       "      <td>NaN</td>\n",
       "      <td>NaN</td>\n",
       "      <td>5999.00</td>\n",
       "      <td>116000</td>\n",
       "      <td>Benzina</td>\n",
       "      <td>2016</td>\n",
       "    </tr>\n",
       "    <tr>\n",
       "      <th>4</th>\n",
       "      <td>Citroën</td>\n",
       "      <td>C4 Cactus</td>\n",
       "      <td>Citroën C4 Cactus 1.2 PureTech S&amp;S BVM6 Shine</td>\n",
       "      <td>1199.0</td>\n",
       "      <td>130.0</td>\n",
       "      <td>Citron C4 Cactus 1.2i 130CP EURO6 ''Facelift\"</td>\n",
       "      <td>8200.00</td>\n",
       "      <td>143000</td>\n",
       "      <td>Benzina</td>\n",
       "      <td>2016</td>\n",
       "    </tr>\n",
       "    <tr>\n",
       "      <th>...</th>\n",
       "      <td>...</td>\n",
       "      <td>...</td>\n",
       "      <td>...</td>\n",
       "      <td>...</td>\n",
       "      <td>...</td>\n",
       "      <td>...</td>\n",
       "      <td>...</td>\n",
       "      <td>...</td>\n",
       "      <td>...</td>\n",
       "      <td>...</td>\n",
       "    </tr>\n",
       "    <tr>\n",
       "      <th>31922</th>\n",
       "      <td>Nissan</td>\n",
       "      <td>Qashqai</td>\n",
       "      <td>Nissan Qashqai 1.3 DIG-T MHEV Xtronic Acenta</td>\n",
       "      <td>NaN</td>\n",
       "      <td>NaN</td>\n",
       "      <td>NaN</td>\n",
       "      <td>20240.00</td>\n",
       "      <td>97000</td>\n",
       "      <td>Benzina</td>\n",
       "      <td>2023</td>\n",
       "    </tr>\n",
       "    <tr>\n",
       "      <th>31923</th>\n",
       "      <td>Mercedes-Benz</td>\n",
       "      <td>GLS</td>\n",
       "      <td>Mercedes-Benz GLS 580 MHEV 4MATIC Aut</td>\n",
       "      <td>3982.0</td>\n",
       "      <td>489.0</td>\n",
       "      <td>Mercedes-Benz Gls</td>\n",
       "      <td>92900.00</td>\n",
       "      <td>102816</td>\n",
       "      <td>Benzina</td>\n",
       "      <td>2022</td>\n",
       "    </tr>\n",
       "    <tr>\n",
       "      <th>31924</th>\n",
       "      <td>Nissan</td>\n",
       "      <td>Juke</td>\n",
       "      <td>Nissan Juke</td>\n",
       "      <td>NaN</td>\n",
       "      <td>NaN</td>\n",
       "      <td>NaN</td>\n",
       "      <td>21990.00</td>\n",
       "      <td>10000</td>\n",
       "      <td>Hibrid</td>\n",
       "      <td>2024</td>\n",
       "    </tr>\n",
       "    <tr>\n",
       "      <th>31925</th>\n",
       "      <td>BMW</td>\n",
       "      <td>Seria 3</td>\n",
       "      <td>BMW Seria 3 320d xDrive AT MHEV</td>\n",
       "      <td>NaN</td>\n",
       "      <td>NaN</td>\n",
       "      <td>NaN</td>\n",
       "      <td>29477.22</td>\n",
       "      <td>129000</td>\n",
       "      <td>Diesel</td>\n",
       "      <td>2021</td>\n",
       "    </tr>\n",
       "    <tr>\n",
       "      <th>31926</th>\n",
       "      <td>Land Rover</td>\n",
       "      <td>Discovery</td>\n",
       "      <td>Land Rover Discovery</td>\n",
       "      <td>1999.0</td>\n",
       "      <td>241.0</td>\n",
       "      <td>Land Rover Discovery 241 CP-45.000 KM !!!</td>\n",
       "      <td>29800.00</td>\n",
       "      <td>45338</td>\n",
       "      <td>Diesel</td>\n",
       "      <td>2017</td>\n",
       "    </tr>\n",
       "  </tbody>\n",
       "</table>\n",
       "<p>31927 rows × 10 columns</p>\n",
       "</div>"
      ],
      "text/plain": [
       "               brand      model  \\\n",
       "0               Ford     Mondeo   \n",
       "1               Ford       Kuga   \n",
       "2                BMW    Seria 3   \n",
       "3             Nissan     Pulsar   \n",
       "4            Citroën  C4 Cactus   \n",
       "...              ...        ...   \n",
       "31922         Nissan    Qashqai   \n",
       "31923  Mercedes-Benz        GLS   \n",
       "31924         Nissan       Juke   \n",
       "31925            BMW    Seria 3   \n",
       "31926     Land Rover  Discovery   \n",
       "\n",
       "                                          full_title  engine_displacement_cm3  \\\n",
       "0           Ford Mondeo 2.0 TDCi Powershift Titanium                   1997.0   \n",
       "1         Ford Kuga 2.0 TDCi 4WD Powershift Titanium                      NaN   \n",
       "2                                        BMW Seria 3                      NaN   \n",
       "3                                      Nissan Pulsar                      NaN   \n",
       "4      Citroën C4 Cactus 1.2 PureTech S&S BVM6 Shine                   1199.0   \n",
       "...                                              ...                      ...   \n",
       "31922   Nissan Qashqai 1.3 DIG-T MHEV Xtronic Acenta                      NaN   \n",
       "31923          Mercedes-Benz GLS 580 MHEV 4MATIC Aut                   3982.0   \n",
       "31924                                    Nissan Juke                      NaN   \n",
       "31925                BMW Seria 3 320d xDrive AT MHEV                      NaN   \n",
       "31926                           Land Rover Discovery                   1999.0   \n",
       "\n",
       "       power_hp                                 ad_description  price_eur  \\\n",
       "0         180.0   ford mondeo ver-2-0-tdci-powershift-titanium   13150.00   \n",
       "1           NaN                                            NaN    8999.00   \n",
       "2           NaN                                            NaN    9999.00   \n",
       "3           NaN                                            NaN    5999.00   \n",
       "4         130.0  Citron C4 Cactus 1.2i 130CP EURO6 ''Facelift\"    8200.00   \n",
       "...         ...                                            ...        ...   \n",
       "31922       NaN                                            NaN   20240.00   \n",
       "31923     489.0                              Mercedes-Benz Gls   92900.00   \n",
       "31924       NaN                                            NaN   21990.00   \n",
       "31925       NaN                                            NaN   29477.22   \n",
       "31926     241.0      Land Rover Discovery 241 CP-45.000 KM !!!   29800.00   \n",
       "\n",
       "       mileage_km fuel_type  production_year  \n",
       "0          187014    Diesel             2017  \n",
       "1          175000    Diesel             2014  \n",
       "2          194000    Diesel             2017  \n",
       "3          116000   Benzina             2016  \n",
       "4          143000   Benzina             2016  \n",
       "...           ...       ...              ...  \n",
       "31922       97000   Benzina             2023  \n",
       "31923      102816   Benzina             2022  \n",
       "31924       10000    Hibrid             2024  \n",
       "31925      129000    Diesel             2021  \n",
       "31926       45338    Diesel             2017  \n",
       "\n",
       "[31927 rows x 10 columns]"
      ]
     },
     "execution_count": 4,
     "metadata": {},
     "output_type": "execute_result"
    }
   ],
   "source": [
    "df"
   ]
  },
  {
   "cell_type": "code",
   "execution_count": 5,
   "id": "6224c8bf",
   "metadata": {},
   "outputs": [],
   "source": [
    "df_clean = df.copy()\n",
    "def remove_outliers_iqr(dataframe, column_name):\n",
    "    Q1 = dataframe[column_name].quantile(0.25)\n",
    "    Q3 = dataframe[column_name].quantile(0.75)\n",
    "    IQR = Q3 - Q1\n",
    "    lower = Q1 - 1.5 * IQR\n",
    "    upper = Q3 + 1.5 * IQR\n",
    "    return dataframe[(dataframe[column_name] >= lower) & (dataframe[column_name] <= upper)]\n",
    "df_clean = remove_outliers_iqr(df_clean, 'price_eur')\n",
    "df_clean = remove_outliers_iqr(df_clean, 'mileage_km')\n",
    "df_clean = remove_outliers_iqr(df_clean, 'engine_displacement_cm3')\n",
    "df_clean = remove_outliers_iqr(df_clean, 'power_hp')"
   ]
  },
  {
   "cell_type": "code",
   "execution_count": 6,
   "id": "7fb5db72",
   "metadata": {},
   "outputs": [],
   "source": [
    "df_model = df_clean.copy()\n",
    "\n",
    "df_model = pd.get_dummies(df_model, columns=['brand', 'model', 'fuel_type', 'full_title'], drop_first=True)\n",
    "\n",
    "X = df_model.drop(['price_eur', 'ad_description'], axis=1)\n",
    "y = df_model['price_eur']"
   ]
  },
  {
   "cell_type": "code",
   "execution_count": 7,
   "id": "0fb3e5d2",
   "metadata": {},
   "outputs": [],
   "source": [
    "X_train, X_test, y_train, y_test = train_test_split(X, y, test_size=0.2, random_state=1)"
   ]
  },
  {
   "cell_type": "code",
   "execution_count": 8,
   "id": "18a18d3f",
   "metadata": {},
   "outputs": [],
   "source": [
    "from sklearn.linear_model import LinearRegression\n",
    "lr = LinearRegression()\n",
    "lr.fit(X_train, y_train)\n",
    "y_pred = lr.predict(X_test)"
   ]
  },
  {
   "cell_type": "code",
   "execution_count": 9,
   "id": "44518878",
   "metadata": {},
   "outputs": [
    {
     "name": "stdout",
     "output_type": "stream",
     "text": [
      "Intercept: -1645093.0344839129\n",
      "Number of coefficients: 9459\n"
     ]
    }
   ],
   "source": [
    "print(\"Intercept:\", lr.intercept_)\n",
    "print(\"Number of coefficients:\", len(lr.coef_))"
   ]
  },
  {
   "cell_type": "code",
   "execution_count": 10,
   "id": "cbf52886",
   "metadata": {},
   "outputs": [],
   "source": [
    "y_pred = lr.predict(X_test)"
   ]
  },
  {
   "cell_type": "code",
   "execution_count": 11,
   "id": "838819b4",
   "metadata": {},
   "outputs": [
    {
     "name": "stdout",
     "output_type": "stream",
     "text": [
      "MSE: 15974145.592366945\n",
      "R2 score: 0.8490079810289543\n"
     ]
    }
   ],
   "source": [
    "from sklearn.model_selection import train_test_split, cross_val_score\n",
    "from sklearn.metrics import mean_squared_error, r2_score\n",
    "\n",
    "mse = mean_squared_error(y_test, y_pred)\n",
    "r2 = r2_score(y_test, y_pred)\n",
    "\n",
    "print(\"MSE:\", mse)\n",
    "print(\"R2 score:\", r2)"
   ]
  },
  {
   "cell_type": "code",
   "execution_count": 12,
   "id": "8f137983",
   "metadata": {},
   "outputs": [
    {
     "name": "stdout",
     "output_type": "stream",
     "text": [
      "MSE: 29642069.5404838\n",
      "RMSE: 5444.453098382224\n",
      "R2 score: 0.8508642150621978\n"
     ]
    }
   ],
   "source": [
    "import pandas as pd\n",
    "import numpy as np\n",
    "from sklearn.linear_model import LinearRegression\n",
    "from sklearn.model_selection import train_test_split\n",
    "from sklearn.metrics import mean_squared_error, r2_score\n",
    "\n",
    "# Remove outliers, narrow the range of data\n",
    "def remove_extreme_outliers(df, column, factor=3):\n",
    "    Q1 = df[column].quantile(0.25)\n",
    "    Q3 = df[column].quantile(0.75)\n",
    "    IQR = Q3 - Q1\n",
    "    lower = Q1 - factor * IQR\n",
    "    upper = Q3 + factor * IQR\n",
    "    return df[(df[column] >= lower) & (df[column] <= upper)]\n",
    "\n",
    "def clean_data(df):\n",
    "    df = df.copy()\n",
    "    \n",
    "    #Filter ranges before removing outliers\n",
    "    df = df[(df['price_eur'] >= 500) & (df['price_eur'] <= 200000)]\n",
    "    df = df[(df['mileage_km'] >= 0) & (df['mileage_km'] <= 500000)]\n",
    "    df = df[(df['engine_displacement_cm3'].isna()) | \n",
    "            ((df['engine_displacement_cm3'] >= 500) & (df['engine_displacement_cm3'] <= 6500))]\n",
    "    df = df[(df['power_hp'].isna()) | ((df['power_hp'] >= 30) & (df['power_hp'] <= 800))]\n",
    "    \n",
    "    #Remove extreme outliers using 3x IQR\n",
    "    for col in ['price_eur', 'mileage_km', 'engine_displacement_cm3', 'power_hp']:\n",
    "        if col in df.columns:\n",
    "            df = remove_extreme_outliers(df, col, factor=3)\n",
    "    \n",
    "    #Strip whitespace from column names\n",
    "    df.columns = df.columns.str.strip()\n",
    "    \n",
    "    return df\n",
    "\n",
    "#Reshape fields, like turning production year into a more valuable value in the form of the age of the car\n",
    "def engineer_features(df):\n",
    "    df = df.copy()\n",
    "    current_year = pd.Timestamp.now().year\n",
    "    \n",
    "    #Car age\n",
    "    df['age'] = current_year - df['production_year']\n",
    "    \n",
    "    #Mileage per year\n",
    "    df['km_per_year'] = df['mileage_km'] / df['age'].replace(0,1)\n",
    "    \n",
    "    #Power per liter\n",
    "    df['power_per_liter'] = df['power_hp'] / df['engine_displacement_cm3'].replace(0,1)\n",
    "    \n",
    "    return df\n",
    "\n",
    "\n",
    "#Encode top-N categorical variables\n",
    "def encode_top_categories(df, col_name, top_n=10, target='price_eur'):\n",
    "    df = df.copy()\n",
    "    top_categories = df[col_name].value_counts().head(top_n).index\n",
    "    df[col_name + '_encoded'] = df[col_name].where(df[col_name].isin(top_categories), 'Other')\n",
    "    \n",
    "    #Target encoding\n",
    "    mean_price = df.groupby(col_name + '_encoded')[target].mean()\n",
    "    df[col_name + '_encoded'] = df[col_name + '_encoded'].map(mean_price)\n",
    "    \n",
    "    return df\n",
    "\n",
    "def encode_fuel_type(df):\n",
    "    df = df.copy()\n",
    "    if 'fuel_type' in df.columns:\n",
    "        df = pd.get_dummies(df, columns=['fuel_type'], drop_first=True)\n",
    "    return df\n",
    "\n",
    "#Prepare X/y\n",
    "def prepare_xy(df):\n",
    "    df = df.copy()\n",
    "    \n",
    "    #Drop text columns\n",
    "    drop_cols = ['ad_description', 'full_title', 'brand', 'model']\n",
    "    for c in drop_cols:\n",
    "        if c in df.columns:\n",
    "            df.drop(c, axis=1, inplace=True)\n",
    "    \n",
    "    #Fill NaNs with median\n",
    "    for col in df.select_dtypes(include=['float', 'int']).columns:\n",
    "        df[col] = df[col].fillna(df[col].median())\n",
    "    \n",
    "    #Separate target\n",
    "    y = np.log(df['price_eur'])  \n",
    "    X = df.drop('price_eur', axis=1)\n",
    "    \n",
    "    return X, y\n",
    "\n",
    "#Apply all steps\n",
    "def process_and_split(df, top_brand_n=10, top_model_n=10):\n",
    "    df = clean_data(df)\n",
    "    df = engineer_features(df)\n",
    "    \n",
    "    #Encode top brands/models\n",
    "    if 'brand' in df.columns:\n",
    "        df = encode_top_categories(df, 'brand', top_n=top_brand_n)\n",
    "    if 'model' in df.columns:\n",
    "        df = encode_top_categories(df, 'model', top_n=top_model_n)\n",
    "    \n",
    "    df = encode_fuel_type(df)\n",
    "\n",
    "    X, y = prepare_xy(df)\n",
    "    \n",
    "    #Train/test split\n",
    "    X_train, X_test, y_train, y_test = train_test_split(X, y, test_size=0.2, random_state=42)\n",
    "    \n",
    "    return X_train, X_test, y_train, y_test\n",
    "\n",
    "#Train Linear Regression\n",
    "def train_and_evaluate(df):\n",
    "    X_train, X_test, y_train, y_test = process_and_split(df)\n",
    "    \n",
    "    model = LinearRegression()\n",
    "    model.fit(X_train, y_train)\n",
    "    \n",
    "    y_pred = model.predict(X_test)\n",
    "    \n",
    "    mse = mean_squared_error(np.exp(y_test), np.exp(y_pred))\n",
    "    r2 = r2_score(np.exp(y_test), np.exp(y_pred))\n",
    "    \n",
    "    print(\"MSE:\", mse)\n",
    "    print(\"RMSE:\", np.sqrt(mse))\n",
    "    print(\"R2 score:\", r2)\n",
    "    \n",
    "    return model, X_train.columns\n",
    "\n",
    "model, feature_columns = train_and_evaluate(df)"
   ]
  },
  {
   "cell_type": "code",
   "execution_count": 13,
   "id": "24f191f1",
   "metadata": {},
   "outputs": [],
   "source": [
    "scores_10fold = cross_val_score(model, X, y, cv=10, scoring='r2')"
   ]
  },
  {
   "cell_type": "code",
   "execution_count": 14,
   "id": "06d2f282",
   "metadata": {},
   "outputs": [
    {
     "name": "stdout",
     "output_type": "stream",
     "text": [
      "10-Fold Cross validation R2 scores: [0.85221789 0.87347791 0.88335139 0.86445533 0.86232355 0.81332627\n",
      " 0.86241514 0.86728136 0.85297921 0.86557982]\n"
     ]
    }
   ],
   "source": [
    "print(\"10-Fold Cross validation R2 scores:\", scores_10fold)"
   ]
  },
  {
   "cell_type": "code",
   "execution_count": null,
   "id": "9ce5dca7",
   "metadata": {},
   "outputs": [
    {
     "name": "stdout",
     "output_type": "stream",
     "text": [
      "Random Forest Results:\n",
      "MSE: 17125596.03182926\n",
      "RMSE: 4138.308353884381\n",
      "R2 score: 0.9138373519012775\n"
     ]
    }
   ],
   "source": [
    "from sklearn.ensemble import RandomForestRegressor\n",
    "\n",
    "def train_random_forest(df, n_estimators=200, max_depth=None):\n",
    "    #Preprocess dataset, like for Linear Regression\n",
    "    X_train, X_test, y_train, y_test = process_and_split(df)\n",
    "    \n",
    "    #Random Forest\n",
    "    rf = RandomForestRegressor(n_estimators=n_estimators, \n",
    "                               max_depth=max_depth, \n",
    "                               random_state=42,\n",
    "                               n_jobs=-1)\n",
    "    \n",
    "    rf.fit(X_train, y_train)\n",
    "    y_pred = rf.predict(X_test)\n",
    "    \n",
    "    #Evaluate RF\n",
    "    mse = mean_squared_error(np.exp(y_test), np.exp(y_pred))\n",
    "    r2 = r2_score(np.exp(y_test), np.exp(y_pred))\n",
    "    \n",
    "    print(\"Random Forest Results:\")\n",
    "    print(\"MSE:\", mse)\n",
    "    print(\"RMSE:\", np.sqrt(mse))\n",
    "    print(\"R2 score:\", r2)\n",
    "    \n",
    "    return rf, X_train.columns\n",
    "\n",
    "rf_model, features = train_random_forest(df)"
   ]
  },
  {
   "cell_type": "code",
   "execution_count": 16,
   "id": "b3157085",
   "metadata": {},
   "outputs": [
    {
     "name": "stdout",
     "output_type": "stream",
     "text": [
      "10-Fold Cross validation R2 scores for Random Forest: [0.91172681 0.92239175 0.92806372 0.92765798 0.92999592 0.90504358\n",
      " 0.91553399 0.92119686 0.92438536 0.92399506]\n"
     ]
    }
   ],
   "source": [
    "scores_10fold_rf = cross_val_score(rf_model, X, y, cv=10, scoring='r2')\n",
    "print(\"10-Fold Cross validation R2 scores for Random Forest:\", scores_10fold_rf)"
   ]
  },
  {
   "cell_type": "code",
   "execution_count": 17,
   "id": "9ebb08a3",
   "metadata": {},
   "outputs": [],
   "source": [
    "from sklearn.ensemble import GradientBoostingRegressor\n",
    "def train_gradient_boosting(df, n_estimators=200, learning_rate=0.1, max_depth=3):\n",
    "    #Preprocess dataset like for Linear Regression again\n",
    "    X_train, X_test, y_train, y_test = process_and_split(df)\n",
    "    \n",
    "    #Gradient Boosting\n",
    "    gb = GradientBoostingRegressor(n_estimators=n_estimators, \n",
    "                                   learning_rate=learning_rate,\n",
    "                                   max_depth=max_depth,\n",
    "                                   random_state=42)\n",
    "    \n",
    "    gb.fit(X_train, y_train)\n",
    "    y_pred = gb.predict(X_test)\n",
    "    \n",
    "    #Evaluate GB\n",
    "    mse = mean_squared_error(np.exp(y_test), np.exp(y_pred))\n",
    "    r2 = r2_score(np.exp(y_test), np.exp(y_pred))\n",
    "    \n",
    "    print(\"Gradient Boosting Results:\")\n",
    "    print(\"MSE:\", mse)\n",
    "    print(\"RMSE:\", np.sqrt(mse))\n",
    "    print(\"R2 score:\", r2)\n",
    "    \n",
    "    return gb, X_train.columns\n"
   ]
  },
  {
   "cell_type": "code",
   "execution_count": 18,
   "id": "ca6fbec1",
   "metadata": {},
   "outputs": [
    {
     "name": "stdout",
     "output_type": "stream",
     "text": [
      "Gradient Boosting Results:\n",
      "MSE: 18854472.50095325\n",
      "RMSE: 4342.173706906859\n",
      "R2 score: 0.9051389933426364\n"
     ]
    }
   ],
   "source": [
    "gb_model, features = train_gradient_boosting(df)"
   ]
  },
  {
   "cell_type": "code",
   "execution_count": 19,
   "id": "82d7d45b",
   "metadata": {},
   "outputs": [
    {
     "data": {
      "text/plain": [
       "Index(['engine_displacement_cm3', 'power_hp', 'mileage_km', 'production_year',\n",
       "       'age', 'km_per_year', 'power_per_liter', 'brand_encoded',\n",
       "       'model_encoded', 'fuel_type_Benzina + CNG', 'fuel_type_Benzina + GPL',\n",
       "       'fuel_type_Diesel', 'fuel_type_Hibrid', 'fuel_type_Hibrid Plug-In'],\n",
       "      dtype='object')"
      ]
     },
     "execution_count": 19,
     "metadata": {},
     "output_type": "execute_result"
    }
   ],
   "source": [
    "features"
   ]
  },
  {
   "cell_type": "code",
   "execution_count": 20,
   "id": "0670d70e",
   "metadata": {},
   "outputs": [
    {
     "name": "stdout",
     "output_type": "stream",
     "text": [
      "Gradient Boosting 10-Fold Cross validation R2 scores: [0.88378771 0.90260643 0.91520595 0.90960144 0.90951142 0.8937109\n",
      " 0.90468172 0.91057098 0.90028439 0.90562796]\n"
     ]
    }
   ],
   "source": [
    "scores_10fold_gb = cross_val_score(gb_model, X, y, cv=10, scoring='r2')\n",
    "print(\"Gradient Boosting 10-Fold Cross validation R2 scores:\", scores_10fold_gb)"
   ]
  }
 ],
 "metadata": {
  "kernelspec": {
   "display_name": "car-data-project",
   "language": "python",
   "name": "python3"
  },
  "language_info": {
   "codemirror_mode": {
    "name": "ipython",
    "version": 3
   },
   "file_extension": ".py",
   "mimetype": "text/x-python",
   "name": "python",
   "nbconvert_exporter": "python",
   "pygments_lexer": "ipython3",
   "version": "3.13.5"
  }
 },
 "nbformat": 4,
 "nbformat_minor": 5
}
